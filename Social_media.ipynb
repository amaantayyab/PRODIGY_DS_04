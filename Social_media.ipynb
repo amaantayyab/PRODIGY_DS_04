{
 "cells": [
  {
   "cell_type": "markdown",
   "id": "3f7b8367",
   "metadata": {},
   "source": [
    "# Importing the Libraries"
   ]
  },
  {
   "cell_type": "code",
   "execution_count": 45,
   "id": "9d7a3caf",
   "metadata": {},
   "outputs": [],
   "source": [
    "import pandas as pd\n",
    "import numpy as np\n",
    "import matplotlib.pyplot as plt"
   ]
  },
  {
   "cell_type": "markdown",
   "id": "67851bdb",
   "metadata": {},
   "source": [
    "# Importing the Dataset"
   ]
  },
  {
   "cell_type": "code",
   "execution_count": 46,
   "id": "a8858406",
   "metadata": {},
   "outputs": [],
   "source": [
    "data = pd.read_csv(r'C:\\Users\\amaan\\Downloads\\social_media_sentiment_real_content.csv')"
   ]
  },
  {
   "cell_type": "markdown",
   "id": "a1ecd97f",
   "metadata": {},
   "source": [
    "# Understanding the Dataset"
   ]
  },
  {
   "cell_type": "code",
   "execution_count": 4,
   "id": "b9e92292",
   "metadata": {},
   "outputs": [
    {
     "data": {
      "text/html": [
       "<div>\n",
       "<style scoped>\n",
       "    .dataframe tbody tr th:only-of-type {\n",
       "        vertical-align: middle;\n",
       "    }\n",
       "\n",
       "    .dataframe tbody tr th {\n",
       "        vertical-align: top;\n",
       "    }\n",
       "\n",
       "    .dataframe thead th {\n",
       "        text-align: right;\n",
       "    }\n",
       "</style>\n",
       "<table border=\"1\" class=\"dataframe\">\n",
       "  <thead>\n",
       "    <tr style=\"text-align: right;\">\n",
       "      <th></th>\n",
       "      <th>tweet_id</th>\n",
       "      <th>entity</th>\n",
       "      <th>sentiment</th>\n",
       "      <th>tweet_content</th>\n",
       "      <th>user_name</th>\n",
       "      <th>location</th>\n",
       "      <th>retweets</th>\n",
       "      <th>likes</th>\n",
       "      <th>date</th>\n",
       "      <th>source</th>\n",
       "    </tr>\n",
       "  </thead>\n",
       "  <tbody>\n",
       "    <tr>\n",
       "      <th>0</th>\n",
       "      <td>1</td>\n",
       "      <td>Samsung</td>\n",
       "      <td>negative</td>\n",
       "      <td>Love shopping on Amazon.</td>\n",
       "      <td>daniel_blue</td>\n",
       "      <td>Nevada</td>\n",
       "      <td>15</td>\n",
       "      <td>4</td>\n",
       "      <td>2024-06-20</td>\n",
       "      <td>web</td>\n",
       "    </tr>\n",
       "    <tr>\n",
       "      <th>1</th>\n",
       "      <td>2</td>\n",
       "      <td>Apple</td>\n",
       "      <td>neutral</td>\n",
       "      <td>Just joined a new group on Facebook.</td>\n",
       "      <td>chris_black</td>\n",
       "      <td>Virginia</td>\n",
       "      <td>12</td>\n",
       "      <td>3</td>\n",
       "      <td>2024-06-18</td>\n",
       "      <td>web</td>\n",
       "    </tr>\n",
       "    <tr>\n",
       "      <th>2</th>\n",
       "      <td>3</td>\n",
       "      <td>Google</td>\n",
       "      <td>negative</td>\n",
       "      <td>Microsoft Office is so useful.</td>\n",
       "      <td>karen_purple</td>\n",
       "      <td>New York</td>\n",
       "      <td>20</td>\n",
       "      <td>79</td>\n",
       "      <td>2024-06-17</td>\n",
       "      <td>mobile</td>\n",
       "    </tr>\n",
       "    <tr>\n",
       "      <th>3</th>\n",
       "      <td>4</td>\n",
       "      <td>Adidas</td>\n",
       "      <td>neutral</td>\n",
       "      <td>Just joined a new group on Facebook.</td>\n",
       "      <td>lisa_jones</td>\n",
       "      <td>Florida</td>\n",
       "      <td>18</td>\n",
       "      <td>11</td>\n",
       "      <td>2024-07-09</td>\n",
       "      <td>web</td>\n",
       "    </tr>\n",
       "    <tr>\n",
       "      <th>4</th>\n",
       "      <td>5</td>\n",
       "      <td>Adidas</td>\n",
       "      <td>neutral</td>\n",
       "      <td>Just started using Teams for work.</td>\n",
       "      <td>daniel_blue</td>\n",
       "      <td>Nevada</td>\n",
       "      <td>6</td>\n",
       "      <td>7</td>\n",
       "      <td>2024-07-10</td>\n",
       "      <td>web</td>\n",
       "    </tr>\n",
       "  </tbody>\n",
       "</table>\n",
       "</div>"
      ],
      "text/plain": [
       "   tweet_id   entity sentiment                         tweet_content  \\\n",
       "0         1  Samsung  negative              Love shopping on Amazon.   \n",
       "1         2    Apple   neutral  Just joined a new group on Facebook.   \n",
       "2         3   Google  negative        Microsoft Office is so useful.   \n",
       "3         4   Adidas   neutral  Just joined a new group on Facebook.   \n",
       "4         5   Adidas   neutral    Just started using Teams for work.   \n",
       "\n",
       "      user_name  location  retweets  likes        date  source  \n",
       "0   daniel_blue    Nevada        15      4  2024-06-20     web  \n",
       "1   chris_black  Virginia        12      3  2024-06-18     web  \n",
       "2  karen_purple  New York        20     79  2024-06-17  mobile  \n",
       "3    lisa_jones   Florida        18     11  2024-07-09     web  \n",
       "4   daniel_blue    Nevada         6      7  2024-07-10     web  "
      ]
     },
     "execution_count": 4,
     "metadata": {},
     "output_type": "execute_result"
    }
   ],
   "source": [
    "data.head()"
   ]
  },
  {
   "cell_type": "code",
   "execution_count": 63,
   "id": "c1ef086e",
   "metadata": {},
   "outputs": [
    {
     "data": {
      "text/html": [
       "<div>\n",
       "<style scoped>\n",
       "    .dataframe tbody tr th:only-of-type {\n",
       "        vertical-align: middle;\n",
       "    }\n",
       "\n",
       "    .dataframe tbody tr th {\n",
       "        vertical-align: top;\n",
       "    }\n",
       "\n",
       "    .dataframe thead th {\n",
       "        text-align: right;\n",
       "    }\n",
       "</style>\n",
       "<table border=\"1\" class=\"dataframe\">\n",
       "  <thead>\n",
       "    <tr style=\"text-align: right;\">\n",
       "      <th></th>\n",
       "      <th>tweet_id</th>\n",
       "      <th>entity</th>\n",
       "      <th>sentiment</th>\n",
       "      <th>tweet_content</th>\n",
       "      <th>user_name</th>\n",
       "      <th>location</th>\n",
       "      <th>retweets</th>\n",
       "      <th>likes</th>\n",
       "      <th>date</th>\n",
       "      <th>source</th>\n",
       "      <th>0</th>\n",
       "    </tr>\n",
       "  </thead>\n",
       "  <tbody>\n",
       "    <tr>\n",
       "      <th>0</th>\n",
       "      <td>False</td>\n",
       "      <td>False</td>\n",
       "      <td>False</td>\n",
       "      <td>False</td>\n",
       "      <td>False</td>\n",
       "      <td>False</td>\n",
       "      <td>False</td>\n",
       "      <td>False</td>\n",
       "      <td>False</td>\n",
       "      <td>False</td>\n",
       "      <td>1000</td>\n",
       "    </tr>\n",
       "  </tbody>\n",
       "</table>\n",
       "</div>"
      ],
      "text/plain": [
       "   tweet_id  entity  sentiment  tweet_content  user_name  location  retweets  \\\n",
       "0     False   False      False          False      False     False     False   \n",
       "\n",
       "   likes   date  source     0  \n",
       "0  False  False   False  1000  "
      ]
     },
     "execution_count": 63,
     "metadata": {},
     "output_type": "execute_result"
    }
   ],
   "source": [
    "data.isnull().value_counts().reset_index()"
   ]
  },
  {
   "cell_type": "markdown",
   "id": "b8aee481",
   "metadata": {},
   "source": [
    "Ok, so we have no null values in the Dataset"
   ]
  },
  {
   "cell_type": "code",
   "execution_count": 64,
   "id": "f6568caa",
   "metadata": {},
   "outputs": [
    {
     "name": "stdout",
     "output_type": "stream",
     "text": [
      "<class 'pandas.core.frame.DataFrame'>\n",
      "RangeIndex: 1000 entries, 0 to 999\n",
      "Data columns (total 10 columns):\n",
      " #   Column         Non-Null Count  Dtype \n",
      "---  ------         --------------  ----- \n",
      " 0   tweet_id       1000 non-null   int64 \n",
      " 1   entity         1000 non-null   object\n",
      " 2   sentiment      1000 non-null   object\n",
      " 3   tweet_content  1000 non-null   object\n",
      " 4   user_name      1000 non-null   object\n",
      " 5   location       1000 non-null   object\n",
      " 6   retweets       1000 non-null   int64 \n",
      " 7   likes          1000 non-null   int64 \n",
      " 8   date           1000 non-null   object\n",
      " 9   source         1000 non-null   object\n",
      "dtypes: int64(3), object(7)\n",
      "memory usage: 78.2+ KB\n"
     ]
    }
   ],
   "source": [
    "data.info()"
   ]
  },
  {
   "cell_type": "markdown",
   "id": "f60ed2dd",
   "metadata": {},
   "source": [
    "There are 1000 rows in total and 10 columns in the Dataset."
   ]
  },
  {
   "cell_type": "markdown",
   "id": "6be018d1",
   "metadata": {},
   "source": [
    "# Entity count of tweets"
   ]
  },
  {
   "cell_type": "code",
   "execution_count": 86,
   "id": "41ddc68c",
   "metadata": {},
   "outputs": [
    {
     "data": {
      "text/html": [
       "<div>\n",
       "<style scoped>\n",
       "    .dataframe tbody tr th:only-of-type {\n",
       "        vertical-align: middle;\n",
       "    }\n",
       "\n",
       "    .dataframe tbody tr th {\n",
       "        vertical-align: top;\n",
       "    }\n",
       "\n",
       "    .dataframe thead th {\n",
       "        text-align: right;\n",
       "    }\n",
       "</style>\n",
       "<table border=\"1\" class=\"dataframe\">\n",
       "  <thead>\n",
       "    <tr style=\"text-align: right;\">\n",
       "      <th></th>\n",
       "      <th>Entity</th>\n",
       "      <th>Count</th>\n",
       "    </tr>\n",
       "  </thead>\n",
       "  <tbody>\n",
       "    <tr>\n",
       "      <th>0</th>\n",
       "      <td>Adidas</td>\n",
       "      <td>116</td>\n",
       "    </tr>\n",
       "    <tr>\n",
       "      <th>1</th>\n",
       "      <td>Google</td>\n",
       "      <td>113</td>\n",
       "    </tr>\n",
       "    <tr>\n",
       "      <th>2</th>\n",
       "      <td>Samsung</td>\n",
       "      <td>108</td>\n",
       "    </tr>\n",
       "    <tr>\n",
       "      <th>3</th>\n",
       "      <td>Facebook</td>\n",
       "      <td>105</td>\n",
       "    </tr>\n",
       "    <tr>\n",
       "      <th>4</th>\n",
       "      <td>Twitter</td>\n",
       "      <td>103</td>\n",
       "    </tr>\n",
       "    <tr>\n",
       "      <th>5</th>\n",
       "      <td>Amazon</td>\n",
       "      <td>102</td>\n",
       "    </tr>\n",
       "    <tr>\n",
       "      <th>6</th>\n",
       "      <td>Tesla</td>\n",
       "      <td>95</td>\n",
       "    </tr>\n",
       "    <tr>\n",
       "      <th>7</th>\n",
       "      <td>Apple</td>\n",
       "      <td>91</td>\n",
       "    </tr>\n",
       "    <tr>\n",
       "      <th>8</th>\n",
       "      <td>Nike</td>\n",
       "      <td>85</td>\n",
       "    </tr>\n",
       "    <tr>\n",
       "      <th>9</th>\n",
       "      <td>Microsoft</td>\n",
       "      <td>82</td>\n",
       "    </tr>\n",
       "  </tbody>\n",
       "</table>\n",
       "</div>"
      ],
      "text/plain": [
       "      Entity  Count\n",
       "0     Adidas    116\n",
       "1     Google    113\n",
       "2    Samsung    108\n",
       "3   Facebook    105\n",
       "4    Twitter    103\n",
       "5     Amazon    102\n",
       "6      Tesla     95\n",
       "7      Apple     91\n",
       "8       Nike     85\n",
       "9  Microsoft     82"
      ]
     },
     "execution_count": 86,
     "metadata": {},
     "output_type": "execute_result"
    }
   ],
   "source": [
    "entity_counts = data['entity'].value_counts().reset_index()\n",
    "entity_counts.columns = ['Entity', 'Count']\n",
    "pd.DataFrame(entity_counts)\n"
   ]
  },
  {
   "cell_type": "markdown",
   "id": "b087bc0e",
   "metadata": {},
   "source": [
    "# Likes vs Retweets vs Count"
   ]
  },
  {
   "cell_type": "code",
   "execution_count": 85,
   "id": "846622d8",
   "metadata": {},
   "outputs": [
    {
     "data": {
      "text/html": [
       "<div>\n",
       "<style scoped>\n",
       "    .dataframe tbody tr th:only-of-type {\n",
       "        vertical-align: middle;\n",
       "    }\n",
       "\n",
       "    .dataframe tbody tr th {\n",
       "        vertical-align: top;\n",
       "    }\n",
       "\n",
       "    .dataframe thead th {\n",
       "        text-align: right;\n",
       "    }\n",
       "</style>\n",
       "<table border=\"1\" class=\"dataframe\">\n",
       "  <thead>\n",
       "    <tr style=\"text-align: right;\">\n",
       "      <th></th>\n",
       "      <th>Likes</th>\n",
       "      <th>Retweets</th>\n",
       "      <th>Count</th>\n",
       "    </tr>\n",
       "    <tr>\n",
       "      <th>Entity</th>\n",
       "      <th></th>\n",
       "      <th></th>\n",
       "      <th></th>\n",
       "    </tr>\n",
       "  </thead>\n",
       "  <tbody>\n",
       "    <tr>\n",
       "      <th>Adidas</th>\n",
       "      <td>5803</td>\n",
       "      <td>1200</td>\n",
       "      <td>116</td>\n",
       "    </tr>\n",
       "    <tr>\n",
       "      <th>Google</th>\n",
       "      <td>5796</td>\n",
       "      <td>1112</td>\n",
       "      <td>113</td>\n",
       "    </tr>\n",
       "    <tr>\n",
       "      <th>Samsung</th>\n",
       "      <td>4899</td>\n",
       "      <td>1038</td>\n",
       "      <td>108</td>\n",
       "    </tr>\n",
       "    <tr>\n",
       "      <th>Facebook</th>\n",
       "      <td>5141</td>\n",
       "      <td>1164</td>\n",
       "      <td>105</td>\n",
       "    </tr>\n",
       "    <tr>\n",
       "      <th>Twitter</th>\n",
       "      <td>4899</td>\n",
       "      <td>1067</td>\n",
       "      <td>103</td>\n",
       "    </tr>\n",
       "    <tr>\n",
       "      <th>Amazon</th>\n",
       "      <td>5204</td>\n",
       "      <td>1041</td>\n",
       "      <td>102</td>\n",
       "    </tr>\n",
       "    <tr>\n",
       "      <th>Tesla</th>\n",
       "      <td>4856</td>\n",
       "      <td>962</td>\n",
       "      <td>95</td>\n",
       "    </tr>\n",
       "    <tr>\n",
       "      <th>Apple</th>\n",
       "      <td>4624</td>\n",
       "      <td>941</td>\n",
       "      <td>91</td>\n",
       "    </tr>\n",
       "    <tr>\n",
       "      <th>Nike</th>\n",
       "      <td>4103</td>\n",
       "      <td>894</td>\n",
       "      <td>85</td>\n",
       "    </tr>\n",
       "    <tr>\n",
       "      <th>Microsoft</th>\n",
       "      <td>4144</td>\n",
       "      <td>827</td>\n",
       "      <td>82</td>\n",
       "    </tr>\n",
       "  </tbody>\n",
       "</table>\n",
       "</div>"
      ],
      "text/plain": [
       "           Likes  Retweets  Count\n",
       "Entity                           \n",
       "Adidas      5803      1200    116\n",
       "Google      5796      1112    113\n",
       "Samsung     4899      1038    108\n",
       "Facebook    5141      1164    105\n",
       "Twitter     4899      1067    103\n",
       "Amazon      5204      1041    102\n",
       "Tesla       4856       962     95\n",
       "Apple       4624       941     91\n",
       "Nike        4103       894     85\n",
       "Microsoft   4144       827     82"
      ]
     },
     "execution_count": 85,
     "metadata": {},
     "output_type": "execute_result"
    }
   ],
   "source": [
    "likes_by_entity = data.groupby('entity').agg({'likes':'sum','retweets': 'sum','entity':'size'})\n",
    "likes_by_entity.index.name = 'Entity'\n",
    "likes_by_entity.columns = ['Likes','Retweets', 'Count']\n",
    "likes_by_entity = likes_by_entity.sort_values(by='Count',ascending= False)\n",
    "likes_by_entity"
   ]
  },
  {
   "cell_type": "markdown",
   "id": "4517c7d6",
   "metadata": {},
   "source": [
    "Adidas is leading in terms of all these aspects\n",
    "We can also infer that the count of Retweets and total count have direct relation. Higher the total count, higher the retweets\n",
    "Whereas, Incase of Likes it's not that related. For example, Amazon despite being at number 6 in total count is at number 3 in Most Likes category"
   ]
  },
  {
   "cell_type": "markdown",
   "id": "4030a724",
   "metadata": {},
   "source": [
    "# Visualization of Positive sentiment"
   ]
  },
  {
   "cell_type": "code",
   "execution_count": 33,
   "id": "7389ef73",
   "metadata": {},
   "outputs": [
    {
     "data": {
      "image/png": "[encoded data removed]",
      "text/plain": [
       "<Figure size 600x400 with 1 Axes>"
      ]
     },
     "metadata": {},
     "output_type": "display_data"
    }
   ],
   "source": [
    "\n",
    "positive_entities = data[data['sentiment']=='positive']\n",
    "positive_counts = positive_entities['entity'].value_counts()\n",
    "\n",
    "entities = positive_counts.index\n",
    "counts = positive_counts.values\n",
    "plt.figure(figsize=(6, 4))  \n",
    "plt.bar(entities, counts, color = 'green', width=0.4)\n",
    "plt.xlabel('Entities',color = 'green')\n",
    "plt.ylabel('Counts',color = 'green')\n",
    "plt.title('positive Counts by Entities', color = 'green')\n",
    "\n",
    "plt.xticks(rotation=45, color = 'green')\n",
    "plt.yticks(color = 'green')\n",
    "plt.tight_layout()  \n",
    "plt.show()"
   ]
  },
  {
   "cell_type": "markdown",
   "id": "9aa1fbf5",
   "metadata": {},
   "source": [
    "# Visualization of Negative sentiment"
   ]
  },
  {
   "cell_type": "code",
   "execution_count": 32,
   "id": "3ba14401",
   "metadata": {},
   "outputs": [
    {
     "data": {
      "image/png": "[encoded data removed]",
      "text/plain": [
       "<Figure size 600x400 with 1 Axes>"
      ]
     },
     "metadata": {},
     "output_type": "display_data"
    }
   ],
   "source": [
    "negative_entities = data[data['sentiment']=='negative']\n",
    "negative_counts = negative_entities['entity'].value_counts()\n",
    "\n",
    "entities = negative_counts.index\n",
    "counts = negative_counts.values\n",
    "plt.figure(figsize=(6, 4))  \n",
    "plt.bar(entities, counts, color = 'red', width=0.4)\n",
    "plt.xlabel('Entities',color = 'red')\n",
    "plt.ylabel('Counts',color = 'red')\n",
    "plt.title('Negative Counts by Entities', color = 'red')\n",
    "\n",
    "plt.xticks(rotation=45, color = 'red')\n",
    "plt.yticks(color = 'red')\n",
    "plt.tight_layout()  \n",
    "plt.show()\n"
   ]
  },
  {
   "cell_type": "markdown",
   "id": "629bbcdf",
   "metadata": {},
   "source": [
    "Facebook has most number of Negative tweets, even though it is at number 4 position in total tweets counts, it ranks highest in Negative tweet count. \n",
    "Microsoft has the least number of Negative tweets, but we can't Ignore it's total tweet count. The fact that it has the least number of total tweets definitly affects the outcome"
   ]
  },
  {
   "cell_type": "markdown",
   "id": "7c77640e",
   "metadata": {},
   "source": [
    "# Source of the Tweets"
   ]
  },
  {
   "cell_type": "code",
   "execution_count": 47,
   "id": "04cc67e1",
   "metadata": {},
   "outputs": [
    {
     "data": {
      "text/html": [
       "<div>\n",
       "<style scoped>\n",
       "    .dataframe tbody tr th:only-of-type {\n",
       "        vertical-align: middle;\n",
       "    }\n",
       "\n",
       "    .dataframe tbody tr th {\n",
       "        vertical-align: top;\n",
       "    }\n",
       "\n",
       "    .dataframe thead th {\n",
       "        text-align: right;\n",
       "    }\n",
       "</style>\n",
       "<table border=\"1\" class=\"dataframe\">\n",
       "  <thead>\n",
       "    <tr style=\"text-align: right;\">\n",
       "      <th></th>\n",
       "      <th>source</th>\n",
       "      <th>Count</th>\n",
       "    </tr>\n",
       "  </thead>\n",
       "  <tbody>\n",
       "    <tr>\n",
       "      <th>0</th>\n",
       "      <td>web</td>\n",
       "      <td>502</td>\n",
       "    </tr>\n",
       "    <tr>\n",
       "      <th>1</th>\n",
       "      <td>mobile</td>\n",
       "      <td>498</td>\n",
       "    </tr>\n",
       "  </tbody>\n",
       "</table>\n",
       "</div>"
      ],
      "text/plain": [
       "   source  Count\n",
       "0     web    502\n",
       "1  mobile    498"
      ]
     },
     "execution_count": 47,
     "metadata": {},
     "output_type": "execute_result"
    }
   ],
   "source": [
    "entity_counts = data['source'].value_counts().reset_index()\n",
    "entity_counts.columns = ['Source', 'Count']\n",
    "pd.DataFrame(entity_counts)"
   ]
  },
  {
   "cell_type": "markdown",
   "id": "14fe8f9f",
   "metadata": {},
   "source": [
    "We can clearly understand that, the total count of tweets from web and mobile are equal with Web source count slightly greater than the Mobile Source"
   ]
  },
  {
   "cell_type": "code",
   "execution_count": 42,
   "id": "5172068d",
   "metadata": {},
   "outputs": [
    {
     "data": {
      "image/png": "[encoded data removed]",
      "text/plain": [
       "<Figure size 400x400 with 1 Axes>"
      ]
     },
     "metadata": {},
     "output_type": "display_data"
    }
   ],
   "source": [
    "positive_data = data[data['sentiment'] == 'Positive']\n",
    "\n",
    "source_counts = positive_data['source'].value_counts()\n",
    "\n",
    "plt.figure(figsize=(4, 4))\n",
    "plt.pie(source_counts, labels=source_counts.index, autopct='%1.1f%%', startangle=140, colors=['skyblue', 'lightgreen'])\n",
    "plt.title('Distribution of Positive Tweets by Source')\n",
    "plt.show()\n"
   ]
  },
  {
   "cell_type": "code",
   "execution_count": 43,
   "id": "beaaee33",
   "metadata": {},
   "outputs": [
    {
     "data": {
      "image/png": "[encoded data removed]",
      "text/plain": [
       "<Figure size 400x400 with 1 Axes>"
      ]
     },
     "metadata": {},
     "output_type": "display_data"
    }
   ],
   "source": [
    "\n",
    "negative_data = data[data['sentiment'] == 'Negative']\n",
    "\n",
    "source_counts = negative_data['source'].value_counts()\n",
    "\n",
    "plt.figure(figsize=(4, 4))\n",
    "plt.pie(source_counts, labels=source_counts.index, autopct='%1.1f%%', startangle=140, colors=['skyblue', 'lightgreen'])\n",
    "plt.title('Distribution of Negative Tweets by Source')\n",
    "plt.show()\n"
   ]
  },
  {
   "cell_type": "markdown",
   "id": "654f818f",
   "metadata": {},
   "source": [
    "# Location count"
   ]
  },
  {
   "cell_type": "code",
   "execution_count": 48,
   "id": "0ff00006",
   "metadata": {},
   "outputs": [
    {
     "data": {
      "text/html": [
       "<div>\n",
       "<style scoped>\n",
       "    .dataframe tbody tr th:only-of-type {\n",
       "        vertical-align: middle;\n",
       "    }\n",
       "\n",
       "    .dataframe tbody tr th {\n",
       "        vertical-align: top;\n",
       "    }\n",
       "\n",
       "    .dataframe thead th {\n",
       "        text-align: right;\n",
       "    }\n",
       "</style>\n",
       "<table border=\"1\" class=\"dataframe\">\n",
       "  <thead>\n",
       "    <tr style=\"text-align: right;\">\n",
       "      <th></th>\n",
       "      <th>Location</th>\n",
       "      <th>Count</th>\n",
       "    </tr>\n",
       "  </thead>\n",
       "  <tbody>\n",
       "    <tr>\n",
       "      <th>0</th>\n",
       "      <td>Arizona</td>\n",
       "      <td>116</td>\n",
       "    </tr>\n",
       "    <tr>\n",
       "      <th>1</th>\n",
       "      <td>Colorado</td>\n",
       "      <td>104</td>\n",
       "    </tr>\n",
       "    <tr>\n",
       "      <th>2</th>\n",
       "      <td>Florida</td>\n",
       "      <td>101</td>\n",
       "    </tr>\n",
       "    <tr>\n",
       "      <th>3</th>\n",
       "      <td>Washington</td>\n",
       "      <td>101</td>\n",
       "    </tr>\n",
       "    <tr>\n",
       "      <th>4</th>\n",
       "      <td>Texas</td>\n",
       "      <td>101</td>\n",
       "    </tr>\n",
       "    <tr>\n",
       "      <th>5</th>\n",
       "      <td>Nevada</td>\n",
       "      <td>100</td>\n",
       "    </tr>\n",
       "    <tr>\n",
       "      <th>6</th>\n",
       "      <td>Virginia</td>\n",
       "      <td>100</td>\n",
       "    </tr>\n",
       "    <tr>\n",
       "      <th>7</th>\n",
       "      <td>Ohio</td>\n",
       "      <td>96</td>\n",
       "    </tr>\n",
       "    <tr>\n",
       "      <th>8</th>\n",
       "      <td>California</td>\n",
       "      <td>91</td>\n",
       "    </tr>\n",
       "    <tr>\n",
       "      <th>9</th>\n",
       "      <td>New York</td>\n",
       "      <td>90</td>\n",
       "    </tr>\n",
       "  </tbody>\n",
       "</table>\n",
       "</div>"
      ],
      "text/plain": [
       "     Location  Count\n",
       "0     Arizona    116\n",
       "1    Colorado    104\n",
       "2     Florida    101\n",
       "3  Washington    101\n",
       "4       Texas    101\n",
       "5      Nevada    100\n",
       "6    Virginia    100\n",
       "7        Ohio     96\n",
       "8  California     91\n",
       "9    New York     90"
      ]
     },
     "execution_count": 48,
     "metadata": {},
     "output_type": "execute_result"
    }
   ],
   "source": [
    "entity_counts = data['location'].value_counts().reset_index()\n",
    "entity_counts.columns = ['Location', 'Count']\n",
    "pd.DataFrame(entity_counts)"
   ]
  },
  {
   "cell_type": "markdown",
   "id": "c58b03cb",
   "metadata": {},
   "source": [
    "We can infer from the above table that, Arizona state is most active on Social media and New york is least active"
   ]
  },
  {
   "cell_type": "markdown",
   "id": "87434bfc",
   "metadata": {},
   "source": [
    "# Date count"
   ]
  },
  {
   "cell_type": "code",
   "execution_count": 60,
   "id": "b4300cd6",
   "metadata": {},
   "outputs": [
    {
     "data": {
      "image/png": "[encoded data removed]",
      "text/plain": [
       "<Figure size 1000x600 with 1 Axes>"
      ]
     },
     "metadata": {},
     "output_type": "display_data"
    }
   ],
   "source": [
    "entity_counts = data['date'].value_counts().reset_index()\n",
    "entity_counts.columns = ['date', 'Count']\n",
    "\n",
    "\n",
    "entity_counts = entity_counts.sort_values('date')\n",
    "\n",
    "plt.figure(figsize=(10, 6))\n",
    "plt.plot(entity_counts['date'], entity_counts['Count'], marker='o', linestyle='-', color='b')\n",
    "plt.title('Number of Tweets Over Time')\n",
    "plt.xlabel('Date')\n",
    "plt.ylabel('Number of Tweets')\n",
    "plt.xticks(rotation=90)\n",
    "plt.grid(True)\n",
    "plt.tight_layout()\n",
    "plt.show()"
   ]
  },
  {
   "cell_type": "markdown",
   "id": "021aba7b",
   "metadata": {},
   "source": [
    "This data belongs to the tweets posted between '2024-06-12' and '2024-07-12'. This is a duration of 1 month. We can also clearly see that, on '2024-06-21' highest number of tweets were posted and on '2024-06-25' least number of tweets were posted."
   ]
  },
  {
   "cell_type": "markdown",
   "id": "b31212ce",
   "metadata": {},
   "source": [
    "This shows 2/3rd of the Positive tweets are from Web and 1/3rd are from Mobile"
   ]
  },
  {
   "cell_type": "markdown",
   "id": "9e00d7ab",
   "metadata": {},
   "source": [
    "Half of Negative tweets are from mobile and other half from web"
   ]
  },
  {
   "cell_type": "markdown",
   "id": "ef41cd77",
   "metadata": {},
   "source": [
    "# Most active user "
   ]
  },
  {
   "cell_type": "code",
   "execution_count": 66,
   "id": "6e0f84ac",
   "metadata": {},
   "outputs": [
    {
     "data": {
      "text/html": [
       "<div>\n",
       "<style scoped>\n",
       "    .dataframe tbody tr th:only-of-type {\n",
       "        vertical-align: middle;\n",
       "    }\n",
       "\n",
       "    .dataframe tbody tr th {\n",
       "        vertical-align: top;\n",
       "    }\n",
       "\n",
       "    .dataframe thead th {\n",
       "        text-align: right;\n",
       "    }\n",
       "</style>\n",
       "<table border=\"1\" class=\"dataframe\">\n",
       "  <thead>\n",
       "    <tr style=\"text-align: right;\">\n",
       "      <th></th>\n",
       "      <th>user_name</th>\n",
       "      <th>Count</th>\n",
       "    </tr>\n",
       "  </thead>\n",
       "  <tbody>\n",
       "    <tr>\n",
       "      <th>0</th>\n",
       "      <td>daniel_blue</td>\n",
       "      <td>114</td>\n",
       "    </tr>\n",
       "    <tr>\n",
       "      <th>1</th>\n",
       "      <td>karen_purple</td>\n",
       "      <td>106</td>\n",
       "    </tr>\n",
       "    <tr>\n",
       "      <th>2</th>\n",
       "      <td>jane_doe</td>\n",
       "      <td>100</td>\n",
       "    </tr>\n",
       "    <tr>\n",
       "      <th>3</th>\n",
       "      <td>mark_smith</td>\n",
       "      <td>100</td>\n",
       "    </tr>\n",
       "    <tr>\n",
       "      <th>4</th>\n",
       "      <td>chris_black</td>\n",
       "      <td>99</td>\n",
       "    </tr>\n",
       "    <tr>\n",
       "      <th>5</th>\n",
       "      <td>mike_brown</td>\n",
       "      <td>99</td>\n",
       "    </tr>\n",
       "    <tr>\n",
       "      <th>6</th>\n",
       "      <td>john_doe</td>\n",
       "      <td>98</td>\n",
       "    </tr>\n",
       "    <tr>\n",
       "      <th>7</th>\n",
       "      <td>emma_white</td>\n",
       "      <td>96</td>\n",
       "    </tr>\n",
       "    <tr>\n",
       "      <th>8</th>\n",
       "      <td>sarah_green</td>\n",
       "      <td>95</td>\n",
       "    </tr>\n",
       "    <tr>\n",
       "      <th>9</th>\n",
       "      <td>lisa_jones</td>\n",
       "      <td>93</td>\n",
       "    </tr>\n",
       "  </tbody>\n",
       "</table>\n",
       "</div>"
      ],
      "text/plain": [
       "      user_name  Count\n",
       "0   daniel_blue    114\n",
       "1  karen_purple    106\n",
       "2      jane_doe    100\n",
       "3    mark_smith    100\n",
       "4   chris_black     99\n",
       "5    mike_brown     99\n",
       "6      john_doe     98\n",
       "7    emma_white     96\n",
       "8   sarah_green     95\n",
       "9    lisa_jones     93"
      ]
     },
     "execution_count": 66,
     "metadata": {},
     "output_type": "execute_result"
    }
   ],
   "source": [
    "entity_counts = data['user_name'].value_counts().reset_index()\n",
    "entity_counts.columns = ['user_name', 'Count']\n",
    "pd.DataFrame(entity_counts)"
   ]
  },
  {
   "cell_type": "markdown",
   "id": "1e3a6e8b",
   "metadata": {},
   "source": [
    "So, clearly 'daniel_blue' is the most active user."
   ]
  },
  {
   "cell_type": "markdown",
   "id": "b58fc739",
   "metadata": {},
   "source": [
    "# Most Viral Tweet"
   ]
  },
  {
   "cell_type": "code",
   "execution_count": 30,
   "id": "2cef5378",
   "metadata": {},
   "outputs": [
    {
     "data": {
      "text/html": [
       "<div>\n",
       "<style scoped>\n",
       "    .dataframe tbody tr th:only-of-type {\n",
       "        vertical-align: middle;\n",
       "    }\n",
       "\n",
       "    .dataframe tbody tr th {\n",
       "        vertical-align: top;\n",
       "    }\n",
       "\n",
       "    .dataframe thead th {\n",
       "        text-align: right;\n",
       "    }\n",
       "</style>\n",
       "<table border=\"1\" class=\"dataframe\">\n",
       "  <thead>\n",
       "    <tr style=\"text-align: right;\">\n",
       "      <th></th>\n",
       "      <th>tweet_id</th>\n",
       "      <th>entity</th>\n",
       "      <th>sentiment</th>\n",
       "      <th>tweet_content</th>\n",
       "      <th>user_name</th>\n",
       "      <th>location</th>\n",
       "      <th>retweets</th>\n",
       "      <th>likes</th>\n",
       "      <th>date</th>\n",
       "      <th>source</th>\n",
       "    </tr>\n",
       "  </thead>\n",
       "  <tbody>\n",
       "    <tr>\n",
       "      <th>305</th>\n",
       "      <td>306</td>\n",
       "      <td>Tesla</td>\n",
       "      <td>positive</td>\n",
       "      <td>Love the new collection from Nike.</td>\n",
       "      <td>chris_black</td>\n",
       "      <td>Ohio</td>\n",
       "      <td>20</td>\n",
       "      <td>100</td>\n",
       "      <td>2024-06-27</td>\n",
       "      <td>web</td>\n",
       "    </tr>\n",
       "  </tbody>\n",
       "</table>\n",
       "</div>"
      ],
      "text/plain": [
       "     tweet_id entity sentiment                       tweet_content  \\\n",
       "305       306  Tesla  positive  Love the new collection from Nike.   \n",
       "\n",
       "       user_name location  retweets  likes        date source  \n",
       "305  chris_black     Ohio        20    100  2024-06-27    web  "
      ]
     },
     "execution_count": 30,
     "metadata": {},
     "output_type": "execute_result"
    }
   ],
   "source": [
    "max_likes=data['likes'].max()\n",
    "max_retweets = data['retweets'].max()\n",
    "most_viral_tweet=data[(data['likes']==max_likes) & (data['retweets']==max_retweets)]\n",
    "most_viral_tweet\n",
    "\n"
   ]
  },
  {
   "cell_type": "markdown",
   "id": "85bb6328",
   "metadata": {},
   "source": [
    "This is most viral tweet, \" Love the new collection from Nike' but this comes from Tesla Entity. Maybe, that's reason it got viral also the location is Ohio (just saying)."
   ]
  }
 ],
 "metadata": {
  "kernelspec": {
   "display_name": "Python 3 (ipykernel)",
   "language": "python",
   "name": "python3"
  },
  "language_info": {
   "codemirror_mode": {
    "name": "ipython",
    "version": 3
   },
   "file_extension": ".py",
   "mimetype": "text/x-python",
   "name": "python",
   "nbconvert_exporter": "python",
   "pygments_lexer": "ipython3",
   "version": "3.10.9"
  }
 },
 "nbformat": 4,
 "nbformat_minor": 5
}
